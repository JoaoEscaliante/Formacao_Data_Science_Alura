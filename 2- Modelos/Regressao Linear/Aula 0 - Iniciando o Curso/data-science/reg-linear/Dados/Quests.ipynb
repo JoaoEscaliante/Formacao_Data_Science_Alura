{
 "cells": [
  {
   "cell_type": "markdown",
   "metadata": {},
   "source": [
    "Sobre a correlação entre as variáveis, julgue as afirmativas abaixo:\n",
    "\n",
    "1. O coeficiente de correlação é um número que varia entre 0 e 1.\n",
    "2. Em modelos de regressão linear, é importante verificarmos se as variáveis explicativas (Xs) têm forte correlação com a variável dependente (Y)\n",
    "3. Em modelos de regressão linear, é importante que as variáveis explicativas (Xs) não tenham forte correlação entre si."
   ]
  },
  {
   "cell_type": "markdown",
   "metadata": {},
   "source": [
    "R: 2 e 3 são verdadeiras.\n",
    "    Lembrando que correlações positivas indicam que as duas variáveis se movem na mesma direção e correlações negativas indicam uma relação oposta."
   ]
  },
  {
   "cell_type": "markdown",
   "metadata": {},
   "source": [
    "-----"
   ]
  },
  {
   "cell_type": "markdown",
   "metadata": {},
   "source": [
    "Sobre a ferramenta gráfica BOX PLOT, avalie as asfirmativas abaixo:\n",
    "\n",
    "1. O box plot nos ajuda a identificar a presença de algum tipo de assimeteria na distibuição dos dados.\n",
    "2. Podemos utilizar o box plot como ferramenta para identificar possíveis outliers em nosso conjunto de dados.\n",
    "3. Para construir um box plot, precisamos da média e do primeiro e terceiro quartis de variável."
   ]
  },
  {
   "cell_type": "markdown",
   "metadata": {},
   "source": [
    "R: As afirmativas 1 e 2 estão corretas. Duas das principais características de um box plot é a possibilidade de identificar a simetria ou assimetria de um conjunto de dados e a presença de outliers."
   ]
  },
  {
   "cell_type": "markdown",
   "metadata": {},
   "source": [
    "-----"
   ]
  },
  {
   "cell_type": "markdown",
   "metadata": {},
   "source": [
    "Sobre a relação entre as variáveis do modelo, assinale a alternativa correta:"
   ]
  },
  {
   "cell_type": "markdown",
   "metadata": {},
   "source": [
    "R: Com o uso de gráficos de dispersão, podemos identificar se duas variáveis apresentam uma relação linear entre elas e também a direção desta relação."
   ]
  },
  {
   "cell_type": "markdown",
   "metadata": {},
   "source": [
    "-----"
   ]
  },
  {
   "cell_type": "markdown",
   "metadata": {},
   "source": [
    "Avalie as afirmativas abaixo:\n",
    "\n",
    "1. O intercepto representa o efeito médio em Y (variável dependente), tendo todas as variáveis explicativas excluídas do modelo\n",
    "2. Os coeficientes de regressão (β’s) são conhecidos como coeficientes parciais de regressão, ou coeficientes parciais angulares\n",
    "3. Considerando os resultados dos coeficientes de regressão do modelo estimado em nossa aula:\n",
    "\n",
    "\n",
    "É possível afirmar que, mantendo-se os valores de Chuva (mm) e Final de Semana constantes, o acréscimo de 1°C na Temperatura Máxima gera uma variação média no Consumo de Cerveja de 684,74 litros."
   ]
  },
  {
   "cell_type": "markdown",
   "metadata": {},
   "source": [
    "R: Somente a afirmativa 1 NÃO está correta.\n",
    "\n",
    "Isso mesmo! Realmente a afirmativa 1 está errada, pois o intercepto representa o efeito médio em Y (variável dependente), quando todas as variáveis explicativas forem iguais a 0. Desta forma, ao colocar que as variáveis explicativas foram excluídas do modelo, percebemos que o próprio modelo não poderia ser estimado ou usado para fazer previsões, visto que não haveriam variáveis independentes para explicar a variação na variável dependente."
   ]
  },
  {
   "cell_type": "markdown",
   "metadata": {},
   "source": [
    "-----"
   ]
  },
  {
   "cell_type": "markdown",
   "metadata": {},
   "source": [
    "Assumindo que os dados reais da variável dependente sejam representados por y_Real, os dados reais das variáveis explicativas sejam representados por X_Real e que os dados de previsão, obtidos por um modelo de regressão, são representados por y_Previsto, indique abaixo a opção que mostra a operação correta para se obter os resíduos do modelo."
   ]
  },
  {
   "cell_type": "markdown",
   "metadata": {},
   "source": [
    "1. (a)  residuo = y_Previsto = Alternativa errada! Os resíduos não são iguais aos valores de previsão do modelo. São obtidos a partir da diferença entre o valor observado e as previsões do modelo estimado\n",
    "\n",
    "2. (b)  residuo = X_Real + y_Real = Alternativa errada! Os resíduos são obtidos somente utilizando as informações da variável dependente.\n",
    "\n",
    "3. (c)  residuo = y_Real – y_Previsto\n",
    "\n",
    "4. (d)  residuo = X_Real – y_Previsto = Alternativa errada! Não utilizamos os valores das variáveis explicativas para obter os resíduos."
   ]
  },
  {
   "cell_type": "markdown",
   "metadata": {},
   "source": [
    "R: residuo = y_Real – y_Previsto\n",
    "\n",
    "Alternativa correta! A diferença entre o valor real (observado) e a estimativa do modelo é conhecido como resíduo."
   ]
  },
  {
   "cell_type": "markdown",
   "metadata": {},
   "source": [
    "-----"
   ]
  },
  {
   "cell_type": "markdown",
   "metadata": {},
   "source": [
    "Qual função gráfica do seaborn utilizamos para plotar os dados de previsão do modelo contra os dados reais da variável dependente?"
   ]
  },
  {
   "cell_type": "markdown",
   "metadata": {},
   "source": [
    "1. (a)  .distplot() = Alternativa errada! Com o distplot(), é possível plotar a distribuição de frequências dos dados.\n",
    "\n",
    "2. (b)  .boxplot() = Alternativa errada! Como o próprio nome indica, esta função plota o boxplot dos dados, e não um gráfico de dispersão.\n",
    "\n",
    "3. (c)  .plot() = Alternativa errada! Esta opção de função não existe na biblioteca seaborn.\n",
    "\n",
    "4. (d)  .scatterplot()"
   ]
  },
  {
   "cell_type": "markdown",
   "metadata": {},
   "source": [
    "R: .scatterplot() = Alternativa correta! Com o scatterplot(), é possível plotar gráficos de dispersão entre variáveis."
   ]
  },
  {
   "cell_type": "markdown",
   "metadata": {},
   "source": [
    "-----"
   ]
  },
  {
   "cell_type": "markdown",
   "metadata": {},
   "source": []
  }
 ],
 "metadata": {
  "kernelspec": {
   "display_name": "Python 3",
   "language": "python",
   "name": "python3"
  },
  "language_info": {
   "codemirror_mode": {
    "name": "ipython",
    "version": 3
   },
   "file_extension": ".py",
   "mimetype": "text/x-python",
   "name": "python",
   "nbconvert_exporter": "python",
   "pygments_lexer": "ipython3",
   "version": "3.11.6"
  }
 },
 "nbformat": 4,
 "nbformat_minor": 2
}
