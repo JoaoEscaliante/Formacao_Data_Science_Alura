{
 "cells": [
  {
   "cell_type": "code",
   "execution_count": 1,
   "metadata": {},
   "outputs": [
    {
     "name": "stdout",
     "output_type": "stream",
     "text": [
      "Combinações = 60 e Probabilidade = 0.016666666666667\n"
     ]
    }
   ],
   "source": [
    "from scipy.special import comb\n",
    "combinacoes = comb(60,1)\n",
    "combinacoes\n",
    "probabilidade = 1 / combinacoes\n",
    "print('Combinações = %d e Probabilidade = %0.15f' % (combinacoes, probabilidade))"
   ]
  },
  {
   "cell_type": "markdown",
   "metadata": {},
   "source": [
    "---\n",
    "---"
   ]
  },
  {
   "cell_type": "markdown",
   "metadata": {},
   "source": [
    "-> Lançando Moedas\n",
    "\n",
    "Uma moeda, perfeitamente equilibrada, é lançada para o alto quatro vezes. Utilizando a distribuição binomial, obtenha a probabilidade de a moeda cair com a face coroa voltada para cima duas vezes."
   ]
  },
  {
   "cell_type": "code",
   "execution_count": 2,
   "metadata": {},
   "outputs": [
    {
     "data": {
      "text/plain": [
       "0.375"
      ]
     },
     "execution_count": 2,
     "metadata": {},
     "output_type": "execute_result"
    }
   ],
   "source": [
    "#R:\n",
    "from scipy.stats import binom\n",
    "\n",
    "p = 1 / 2  # Probabilidade de sair COROA\n",
    "n = 4      # Total de lançamentos\n",
    "k = 2      # Total de sucessos (faces COROA voltada para cima)\n",
    "\n",
    "binom.pmf(k, n, p)"
   ]
  },
  {
   "cell_type": "markdown",
   "metadata": {},
   "source": [
    "---\n",
    "---"
   ]
  },
  {
   "cell_type": "markdown",
   "metadata": {},
   "source": [
    "Um dado, perfeitamente equilibrado, é lançado para o alto dez vezes. Utilizando a distribuição binomial, obtenha a probabilidade de o dado cair com o número cinco voltado para cima pelo menos três vezes."
   ]
  },
  {
   "cell_type": "code",
   "execution_count": 3,
   "metadata": {},
   "outputs": [
    {
     "name": "stdout",
     "output_type": "stream",
     "text": [
      "22.48%\n"
     ]
    }
   ],
   "source": [
    "#R:\n",
    "from scipy.stats import binom\n",
    "\n",
    "p = 1 / 6   #probabilidade de sair o número cinco\n",
    "n = 10      #total de lançamentos\n",
    "\n",
    "print(\"{0:.2%}\". format(binom.sf(2, n, p)))\n"
   ]
  },
  {
   "cell_type": "markdown",
   "metadata": {},
   "source": [
    "---\n",
    "---"
   ]
  },
  {
   "cell_type": "markdown",
   "metadata": {},
   "source": [
    "Suponha que a probabilidade de um casal ter filhos com olhos azuis seja de 22%. Em 50 famílias, com 3 crianças cada uma, quantas podemos esperar que tenham dois filhos com olhos azuis?\n"
   ]
  },
  {
   "cell_type": "code",
   "execution_count": 4,
   "metadata": {},
   "outputs": [
    {
     "name": "stdout",
     "output_type": "stream",
     "text": [
      "0.11325600\n"
     ]
    }
   ],
   "source": [
    "#R:\n",
    "from scipy.stats import binom\n",
    "\n",
    "p = 0.22    # probabilidade do casal ter filhos com olhos azuis\n",
    "n = 3       # 3 crianças cada\n",
    "k = 2       # número de filhos que pode ocorrer de ter olhos azuis\n",
    "N = 50      # total de famílias\n",
    "\n",
    "probabilidade = binom.pmf(k, n, p)\n",
    "print('%0.8f' % probabilidade)"
   ]
  },
  {
   "cell_type": "code",
   "execution_count": 5,
   "metadata": {},
   "outputs": [
    {
     "data": {
      "text/plain": [
       "5.662799999999996"
      ]
     },
     "execution_count": 5,
     "metadata": {},
     "output_type": "execute_result"
    }
   ],
   "source": [
    "#Descobrir a média de 2 filhos ter olhos azuis para cada família:\n",
    "media = probabilidade * N\n",
    "media"
   ]
  },
  {
   "cell_type": "markdown",
   "metadata": {},
   "source": [
    "---\n",
    "---"
   ]
  },
  {
   "cell_type": "markdown",
   "metadata": {},
   "source": [
    "O número médio de clientes que entram em uma padaria por hora é igual a 20. Obtenha a probabilidade de, na próxima hora, entrarem exatamente 25 clientes."
   ]
  },
  {
   "cell_type": "code",
   "execution_count": 6,
   "metadata": {},
   "outputs": [
    {
     "name": "stdout",
     "output_type": "stream",
     "text": [
      "4.46%\n"
     ]
    }
   ],
   "source": [
    "from scipy.stats import poisson\n",
    "\n",
    "media = 20\n",
    "k = 25\n",
    "\n",
    "probabilidade = poisson.pmf(k, media)\n",
    "print(\"{0:.2%}\".format(probabilidade))"
   ]
  },
  {
   "cell_type": "markdown",
   "metadata": {},
   "source": [
    "---\n",
    "---"
   ]
  },
  {
   "cell_type": "markdown",
   "metadata": {},
   "source": [
    "A aplicação de uma prova de estatística em um concurso apresentou um conjunto de notas normalmente distribuídas. Verificou-se que o conjunto de notas tinha média 70 e desvio padrão de 5 pontos.\n",
    "Qual a probabilidade de um aluno selecionado ao acaso, ter nota menor que 85?"
   ]
  },
  {
   "cell_type": "code",
   "execution_count": 7,
   "metadata": {},
   "outputs": [
    {
     "data": {
      "text/plain": [
       "99.86501019683699"
      ]
     },
     "execution_count": 7,
     "metadata": {},
     "output_type": "execute_result"
    }
   ],
   "source": [
    "media = 70\n",
    "desvio_padrao = 5\n",
    "\n",
    "Z = (85 - media) / desvio_padrao\n",
    "Z\n",
    "\n",
    "from scipy.stats import norm\n",
    "\n",
    "norm.cdf(Z) * 100\n"
   ]
  },
  {
   "cell_type": "markdown",
   "metadata": {},
   "source": [
    "---\n",
    "---"
   ]
  },
  {
   "cell_type": "markdown",
   "metadata": {},
   "source": [
    "O faturamento diário de um motorista de aplicativo segue uma distribuição aproximadamente normal, com média R$300,00 e desvio padrão igual a R$50,00. Obtenha as probabilidades de que, em um dia aleatório, o motorista ganhe:\n",
    "\n",
    "> **1-)** Entre R$ 250,00 e 350,00  - R: 68.27%\n",
    "\n",
    "> **2-)** Entre R$ 400,00 e 500,00  - R: 2.27%\n"
   ]
  },
  {
   "cell_type": "code",
   "execution_count": 8,
   "metadata": {},
   "outputs": [
    {
     "name": "stdout",
     "output_type": "stream",
     "text": [
      "68.27%\n",
      "2.27%\n"
     ]
    }
   ],
   "source": [
    "from scipy.stats import norm\n",
    "\n",
    "media = 300\n",
    "desvio_padrao = 50\n",
    "Z_superior = (350 - media) / desvio_padrao\n",
    "Z_inferior = (250 - media) / desvio_padrao\n",
    "\n",
    "probabilidade = norm.cdf(Z_superior) - norm.cdf(Z_inferior)\n",
    "print(\"{0:.2%}\" .format(probabilidade))\n",
    "\n",
    "#---------------------------------------------------------------------------\n",
    "\n",
    "media = 300\n",
    "desvio_padrao = 50\n",
    "Z_superior = (500 - media) / desvio_padrao\n",
    "Z_inferior = (400 - media) / desvio_padrao\n",
    "\n",
    "probabilidade = norm.cdf(Z_superior) - norm.cdf(Z_inferior)\n",
    "print(\"{0:.2%}\" .format(probabilidade))"
   ]
  },
  {
   "cell_type": "markdown",
   "metadata": {},
   "source": [
    "---\n",
    "---"
   ]
  },
  {
   "cell_type": "markdown",
   "metadata": {},
   "source": [
    "O Inmetro verificou que as lâmpadas incandescentes da fabricante XPTO apresentam uma vida útil normalmente distribuiída, com média igual a 720 dias e desvio padrão igual a 30. Calcule a probabilidade de uma lâmpada escolhida ao acaso, durar:\n",
    "\n",
    "> **1-)** Entre 650 e 750 dias  R: 83.15%\n",
    "\n",
    "> **2-)** Mais que 800 dias     R: 0.38%\n",
    "\n",
    "> **3-)** Menos que 700 dias    R: 25.25%"
   ]
  },
  {
   "cell_type": "code",
   "execution_count": 9,
   "metadata": {},
   "outputs": [
    {
     "name": "stdout",
     "output_type": "stream",
     "text": [
      "83.15%\n",
      "0.38%\n",
      "25.25%\n"
     ]
    }
   ],
   "source": [
    "from scipy.stats import norm\n",
    "\n",
    "#1-)\n",
    "media = 720\n",
    "desvio_padrao = 30\n",
    "Z_superior = (750 - media) / desvio_padrao\n",
    "Z_inferior = (650 - media) / desvio_padrao\n",
    "\n",
    "probabilidade = norm.cdf(Z_superior) - norm.cdf(Z_inferior)\n",
    "print(\"{0:.2%}\" .format(probabilidade))\n",
    "\n",
    "#---------------------------------------------------------------------------\n",
    "\n",
    "#2-)\n",
    "media = 720\n",
    "desvio_padrao = 30\n",
    "Z_superior = (800 - media) / desvio_padrao\n",
    "#Z_inferior = (400 - media) / desvio_padrao\n",
    "\n",
    "probabilidade = 1 - norm.cdf(Z_superior)\n",
    "print(\"{0:.2%}\" .format(probabilidade))\n",
    "\n",
    "#---------------------------------------------------------------------------\n",
    "\n",
    "#3-)\n",
    "media = 720\n",
    "desvio_padrao = 30\n",
    "#Z_superior = (750 - media) / desvio_padrao\n",
    "Z_inferior = (700 - media) / desvio_padrao\n",
    "\n",
    "probabilidade = norm.cdf(Z_inferior)\n",
    "print(\"{0:.2%}\" .format(probabilidade))\n"
   ]
  },
  {
   "cell_type": "markdown",
   "metadata": {},
   "source": [
    "---\n",
    "---"
   ]
  },
  {
   "cell_type": "markdown",
   "metadata": {},
   "source": [
    "Utilizando a tabela padronizada ou a ferramental dispobnilizado pelo python, encontre a área sob a curva normal para os valores de Z abaixo:\n",
    "\n",
    "> **1-)** Z < 1,96  R: \n",
    "\n",
    "> **2-)** Z > 2,15     R: \n",
    "\n",
    "> **3-)** Z < -0,78    R: \n",
    "\n",
    "> **4-)** Z > 0,59    R: "
   ]
  },
  {
   "cell_type": "code",
   "execution_count": 10,
   "metadata": {},
   "outputs": [
    {
     "name": "stdout",
     "output_type": "stream",
     "text": [
      "97.5002%\n",
      "1.5778%\n",
      "21.7695%\n",
      "27.7595%\n"
     ]
    }
   ],
   "source": [
    "from scipy.stats import norm\n",
    "#1\n",
    "probabilidade = norm.cdf(1.96)\n",
    "print(\"{0:0.4%}\" .format(probabilidade))\n",
    "\n",
    "#2\n",
    "probabilidade = 1 - norm.cdf(2.15)\n",
    "#ou\n",
    "#probbilidade = norm.sf(2.15)\n",
    "print(\"{0:0.4%}\".format(probabilidade))\n",
    "\n",
    "#3\n",
    "probabilidade = norm.cdf(-0.78)\n",
    "print(\"{0:0.4%}\" .format(probabilidade))\n",
    "\n",
    "#4\n",
    "probabilidade = 1 - norm.cdf(0.59)\n",
    "print(\"{0:0.4%}\" .format(probabilidade))\n",
    "\n"
   ]
  },
  {
   "cell_type": "markdown",
   "metadata": {},
   "source": [
    "---\n",
    "---"
   ]
  },
  {
   "cell_type": "markdown",
   "metadata": {},
   "source": [
    "Para estimar o valor médio por cada cliente de uma grande rede de Fast-Food, foi selecionada uma amostra de 50 clientes. Assumindo que o valor do desvio padrão da população seja de R$ 6 e que esta população se distribui normalmente, obtenha a margem de erro desta estimativa para um nível de confiança de 95%."
   ]
  },
  {
   "cell_type": "code",
   "execution_count": 11,
   "metadata": {},
   "outputs": [
    {
     "name": "stdout",
     "output_type": "stream",
     "text": [
      "R$1.66\n"
     ]
    }
   ],
   "source": [
    "from scipy.stats import norm\n",
    "import numpy as np\n",
    "\n",
    "desvio_padrao = 6\n",
    "media = 50\n",
    "z = norm.ppf(0.975)\n",
    "\n",
    "e = z * (desvio_padrao / np.sqrt(media))\n",
    "print(\"R${0:0.2f}\".format(e))\n"
   ]
  },
  {
   "cell_type": "markdown",
   "metadata": {},
   "source": [
    "Uma amostra aleatória simples de 1976 itens de uma população normalmente distribuída, com desvio padrão populacional igual a 11 resultou em uma média amostral de 28. \n",
    "\n",
    "Qual o intervalo de confiança de 90% para média populacional?"
   ]
  },
  {
   "cell_type": "code",
   "execution_count": 12,
   "metadata": {},
   "outputs": [
    {
     "data": {
      "text/plain": [
       "(27.592969951356466, 28.407030048643534)"
      ]
     },
     "execution_count": 12,
     "metadata": {},
     "output_type": "execute_result"
    }
   ],
   "source": [
    "from scipy.stats import norm\n",
    "import numpy as np\n",
    "\n",
    "media_amostral = 28\n",
    "n = 1976\n",
    "desvio_padrao = 11\n",
    "\n",
    "norm.interval(confidence= 0.90,\n",
    "              loc= media_amostral,\n",
    "              scale= desvio_padrao / np.sqrt(n))\n",
    "\n"
   ]
  },
  {
   "cell_type": "markdown",
   "metadata": {},
   "source": [
    "---\n",
    "---"
   ]
  },
  {
   "cell_type": "markdown",
   "metadata": {},
   "source": [
    "O valor do gasto médio dos clientes de uma loja de conveniência é de R$ 45.50. Assumindo que o desvio padrão dos gastos é igual a R$ 15, qual deve ser o tamnho da amostra para estimarmos a média populacional com um nível de significância de 10%? \n",
    "\n",
    "Considere que o erro máximo aceitável seja de 10%."
   ]
  },
  {
   "cell_type": "code",
   "execution_count": 13,
   "metadata": {},
   "outputs": [
    {
     "data": {
      "text/plain": [
       "6.0"
      ]
     },
     "execution_count": 13,
     "metadata": {},
     "output_type": "execute_result"
    }
   ],
   "source": [
    "from scipy.stats import norm\n",
    "\n",
    "\n",
    "media = 45.5\n",
    "sigma = 15\n",
    "significancia = 0.10\n",
    "confianca = 1 - significancia\n",
    "\n",
    "z = norm.ppf(0.5 * (confianca / 2))\n",
    "erro_percentual = 0.10\n",
    "e = media * erro_percentual\n",
    "\n",
    "n = (z * (sigma / e)) ** 2\n",
    "n.round()"
   ]
  },
  {
   "cell_type": "markdown",
   "metadata": {},
   "source": [
    "---\n",
    "---"
   ]
  },
  {
   "cell_type": "markdown",
   "metadata": {},
   "source": [
    "Um fabricante de farinha verificou que, em uma amostra aleatória formada por 200 sacos de 25 kg de um lote formado por 2.000 sacos, apresentou um desvio padrão amostral do peso igual a 480 g.\n",
    "\n",
    "Considerando um erro máximo associado à média populacional igual a 0,3 kg e um nível de confiança igual a 95%, qual tamanho de amostra deveria ser selecionado para obtermos uma estimativa confiável do parâmetro populacional?"
   ]
  },
  {
   "cell_type": "code",
   "execution_count": 16,
   "metadata": {},
   "outputs": [
    {
     "data": {
      "text/plain": [
       "10"
      ]
     },
     "execution_count": 16,
     "metadata": {},
     "output_type": "execute_result"
    }
   ],
   "source": [
    "from scipy.stats import norm\n",
    "import numpy as np\n",
    "\n",
    "N = 2000\n",
    "s = 480\n",
    "e = 0.3 * 1000\n",
    "z = norm.ppf(0.5 + (0.95 / 2))\n",
    "\n",
    "n = ((z**2) * (s**2) * (N)) / (((z**2) * (s**2)) + ((e**2) * (N - 1)))\n",
    "int(n.round())"
   ]
  },
  {
   "cell_type": "markdown",
   "metadata": {},
   "source": [
    "---\n",
    "---"
   ]
  },
  {
   "cell_type": "markdown",
   "metadata": {},
   "source": [
    "Avalie as afirmativas abaixo:\n",
    "\n",
    "1) Os atributos numéricos de uma população como sua média, variância e desvio padrão, são conhecidos como parâmetros. O principal foco da inferência estatística é justamente gerar estimativas e testar hipóteses sobre os parâmetros populacionais utilizando as informações de amostras\n",
    "\n",
    "2) O Teorema do Limite Central afirma que, com o aumento do tamanho da amostra, a distribuição das médias amostrais se aproxima de uma distribuição normal, com média igual à média da população, e desvio padrão igual ao desvio padrão da variável original dividido pela raiz quadrada do tamanho da amostra. Este fato é assegurado para n menor ou igual a 30\n",
    "\n",
    "3) O erro inferencial é definido pelo desvio padrão das médias amostrais e pelo nível de confiança determinado para o processo:"
   ]
  },
  {
   "cell_type": "markdown",
   "metadata": {},
   "source": [
    "R:  Somente as afirmativas 1 e 3 estão corretas.\n",
    "\n",
    "    O erro inferencial também é conhecido como a margem de erro.)"
   ]
  },
  {
   "cell_type": "markdown",
   "metadata": {},
   "source": [
    "---\n",
    "---"
   ]
  },
  {
   "cell_type": "code",
   "execution_count": 17,
   "metadata": {},
   "outputs": [
    {
     "name": "stdout",
     "output_type": "stream",
     "text": [
      "Combinações = 53130 e Probabilidade = 0.000018821757952\n"
     ]
    }
   ],
   "source": [
    "from scipy.special import comb\n",
    "\n",
    "combinacoes = comb(25, 20)\n",
    "probabilidade = 1 / combinacoes\n",
    "print('Combinações = %d e Probabilidade = %0.15f' % (combinacoes, probabilidade))"
   ]
  },
  {
   "cell_type": "markdown",
   "metadata": {},
   "source": [
    "---\n",
    "---"
   ]
  }
 ],
 "metadata": {
  "kernelspec": {
   "display_name": "Python 3",
   "language": "python",
   "name": "python3"
  },
  "language_info": {
   "codemirror_mode": {
    "name": "ipython",
    "version": 3
   },
   "file_extension": ".py",
   "mimetype": "text/x-python",
   "name": "python",
   "nbconvert_exporter": "python",
   "pygments_lexer": "ipython3",
   "version": "3.11.6"
  }
 },
 "nbformat": 4,
 "nbformat_minor": 2
}
